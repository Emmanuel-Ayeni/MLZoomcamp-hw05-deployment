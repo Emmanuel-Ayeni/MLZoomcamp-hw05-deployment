{
 "cells": [
  {
   "cell_type": "markdown",
   "id": "fa8507e9-ee46-46d6-a6ce-94d348a0c7d2",
   "metadata": {},
   "source": [
    "### Chapter-05-Deployment Homework\n",
    "#### Summary\n",
    "* Running Without Docker \n",
    "* Managing Dependencies with Pipenv\n",
    "* Running With Docker"
   ]
  },
  {
   "cell_type": "markdown",
   "id": "e3b0915b-a3d5-4823-b41e-fd76ad204e61",
   "metadata": {},
   "source": [
    "# Ensure Pipenv steps are followed: \n",
    "    # 1. Ensure pipenv is installed. You can install it via pip: Bash: $pip install pipenv.\n",
    "    # 2, Create a New Project Directory:$ mkdir my_data_science_project, $ cd my_data_science_project\n",
    "    # 3. Initialize a Pipfile and virtual environment with pipenv. To specify Python version (recommended), you can use: \n",
    "         #Bash $pipenv --python 3.9  # Replace with your preferred Python version\n",
    "         # $ pipenv --python 3.9  # Replace with your preferred Python version.\n",
    "    # 4. Install essential data science libraries (e.g., pandas, numpy, matplotlib, scikit-learn) using: \n",
    "    #       # $ pipenv install pandas numpy matplotlib scikit-learn==2.5.2\n",
    "        # For development or testing dependencies (e.g., pytest), use:\n",
    "        # pipenv install pytest --dev\n",
    "    # 5. To activate the pipenv environment, use: $ pipenv shell\n",
    "    # 6 Write and Run Your Code\n",
    "        # Now, start coding! Any Python script or Jupyter Notebook run from within this shell will have access to the \n",
    "        # installed dependencies.\n",
    "        # For Jupyter Notebooks, you may want to add an IPython kernel. Install Jupyter and add the environment kernel: \n",
    "            # $ pipenv install jupyter\n",
    "            # $ pipenv run python -m ipykernel install --user --name=my_data_science_project.\n",
    "\n",
    "    # 7. Add Additional Packages as Needed\n",
    "        # As your project grows, you can add more libraries. For instance: $ pipenv install seaborn.\n",
    "    # 8. Lock Dependencies\n",
    "        #Once satisfied with your project setup, lock your dependencies to make the environment reproducible:        \n"
   ]
  },
  {
   "cell_type": "markdown",
   "id": "f0a204e2-60f7-4446-80eb-2df91ea018a8",
   "metadata": {},
   "source": [
    "#### Model and DV Github Download"
   ]
  },
  {
   "cell_type": "code",
   "execution_count": null,
   "id": "d2fa4fac-675e-4ee0-b02d-f6d16418877a",
   "metadata": {},
   "outputs": [],
   "source": [
    "PREFIX='https://raw.githubusercontent.com/DataTalksClub/machine-learning-zoomcamp/master/cohorts/2024/05-deployment/homework'\n",
    "!wget $PREFIX/model1.bin\n",
    "!wget $PREFIX/dv.bin\n"
   ]
  },
  {
   "cell_type": "code",
   "execution_count": null,
   "id": "b3f22d3c-74a2-4434-b774-44ba87ee40ca",
   "metadata": {},
   "outputs": [],
   "source": []
  }
 ],
 "metadata": {
  "kernelspec": {
   "display_name": "Python 3 (ipykernel)",
   "language": "python",
   "name": "python3"
  },
  "language_info": {
   "codemirror_mode": {
    "name": "ipython",
    "version": 3
   },
   "file_extension": ".py",
   "mimetype": "text/x-python",
   "name": "python",
   "nbconvert_exporter": "python",
   "pygments_lexer": "ipython3",
   "version": "3.11.7"
  }
 },
 "nbformat": 4,
 "nbformat_minor": 5
}
